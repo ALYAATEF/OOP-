{
 "cells": [
  {
   "cell_type": "markdown",
   "id": "58ba61e1",
   "metadata": {},
   "source": [
    "### what is an object"
   ]
  },
  {
   "cell_type": "markdown",
   "id": "65c9f3fb",
   "metadata": {},
   "source": [
    " Everything is in Python treated as an object, including variable, function, list, tuple, dictionary, set, etc. Every object belongs to its class."
   ]
  },
  {
   "cell_type": "code",
   "execution_count": 84,
   "id": "40649a09",
   "metadata": {
    "scrolled": true
   },
   "outputs": [
    {
     "name": "stdout",
     "output_type": "stream",
     "text": [
      "<class 'list'>\n",
      "<class 'bool'>\n",
      "<class 'NoneType'>\n",
      "<class 'type'>\n",
      "<class 'function'>\n"
     ]
    }
   ],
   "source": [
    "mYlist=['a','b','c']\n",
    "mYbool= True\n",
    "mYnone= None\n",
    "this_type=type(mYlist)\n",
    "def mYfunc():\n",
    "    print('hello')\n",
    "print(type(mYlist))\n",
    "print(type(mYbool))\n",
    "print(type(mYnone))\n",
    "print(type(this_type))\n",
    "print(type( mYfunc))"
   ]
  },
  {
   "cell_type": "markdown",
   "id": "f8884f88",
   "metadata": {},
   "source": [
    "Classes are the blueprint of the object. Classes are used to bundling the data and functionality together.the class object could be used to access different attributes (data or functions)"
   ]
  },
  {
   "cell_type": "code",
   "execution_count": 85,
   "id": "b862518f",
   "metadata": {},
   "outputs": [
    {
     "name": "stdout",
     "output_type": "stream",
     "text": [
      "Help on list object:\n",
      "\n",
      "class list(object)\n",
      " |  list(iterable=(), /)\n",
      " |  \n",
      " |  Built-in mutable sequence.\n",
      " |  \n",
      " |  If no argument is given, the constructor creates a new empty list.\n",
      " |  The argument must be an iterable if specified.\n",
      " |  \n",
      " |  Methods defined here:\n",
      " |  \n",
      " |  __add__(self, value, /)\n",
      " |      Return self+value.\n",
      " |  \n",
      " |  __contains__(self, key, /)\n",
      " |      Return key in self.\n",
      " |  \n",
      " |  __delitem__(self, key, /)\n",
      " |      Delete self[key].\n",
      " |  \n",
      " |  __eq__(self, value, /)\n",
      " |      Return self==value.\n",
      " |  \n",
      " |  __ge__(self, value, /)\n",
      " |      Return self>=value.\n",
      " |  \n",
      " |  __getattribute__(self, name, /)\n",
      " |      Return getattr(self, name).\n",
      " |  \n",
      " |  __getitem__(...)\n",
      " |      x.__getitem__(y) <==> x[y]\n",
      " |  \n",
      " |  __gt__(self, value, /)\n",
      " |      Return self>value.\n",
      " |  \n",
      " |  __iadd__(self, value, /)\n",
      " |      Implement self+=value.\n",
      " |  \n",
      " |  __imul__(self, value, /)\n",
      " |      Implement self*=value.\n",
      " |  \n",
      " |  __init__(self, /, *args, **kwargs)\n",
      " |      Initialize self.  See help(type(self)) for accurate signature.\n",
      " |  \n",
      " |  __iter__(self, /)\n",
      " |      Implement iter(self).\n",
      " |  \n",
      " |  __le__(self, value, /)\n",
      " |      Return self<=value.\n",
      " |  \n",
      " |  __len__(self, /)\n",
      " |      Return len(self).\n",
      " |  \n",
      " |  __lt__(self, value, /)\n",
      " |      Return self<value.\n",
      " |  \n",
      " |  __mul__(self, value, /)\n",
      " |      Return self*value.\n",
      " |  \n",
      " |  __ne__(self, value, /)\n",
      " |      Return self!=value.\n",
      " |  \n",
      " |  __repr__(self, /)\n",
      " |      Return repr(self).\n",
      " |  \n",
      " |  __reversed__(self, /)\n",
      " |      Return a reverse iterator over the list.\n",
      " |  \n",
      " |  __rmul__(self, value, /)\n",
      " |      Return value*self.\n",
      " |  \n",
      " |  __setitem__(self, key, value, /)\n",
      " |      Set self[key] to value.\n",
      " |  \n",
      " |  __sizeof__(self, /)\n",
      " |      Return the size of the list in memory, in bytes.\n",
      " |  \n",
      " |  append(self, object, /)\n",
      " |      Append object to the end of the list.\n",
      " |  \n",
      " |  clear(self, /)\n",
      " |      Remove all items from list.\n",
      " |  \n",
      " |  copy(self, /)\n",
      " |      Return a shallow copy of the list.\n",
      " |  \n",
      " |  count(self, value, /)\n",
      " |      Return number of occurrences of value.\n",
      " |  \n",
      " |  extend(self, iterable, /)\n",
      " |      Extend list by appending elements from the iterable.\n",
      " |  \n",
      " |  index(self, value, start=0, stop=9223372036854775807, /)\n",
      " |      Return first index of value.\n",
      " |      \n",
      " |      Raises ValueError if the value is not present.\n",
      " |  \n",
      " |  insert(self, index, object, /)\n",
      " |      Insert object before index.\n",
      " |  \n",
      " |  pop(self, index=-1, /)\n",
      " |      Remove and return item at index (default last).\n",
      " |      \n",
      " |      Raises IndexError if list is empty or index is out of range.\n",
      " |  \n",
      " |  remove(self, value, /)\n",
      " |      Remove first occurrence of value.\n",
      " |      \n",
      " |      Raises ValueError if the value is not present.\n",
      " |  \n",
      " |  reverse(self, /)\n",
      " |      Reverse *IN PLACE*.\n",
      " |  \n",
      " |  sort(self, /, *, key=None, reverse=False)\n",
      " |      Sort the list in ascending order and return None.\n",
      " |      \n",
      " |      The sort is in-place (i.e. the list itself is modified) and stable (i.e. the\n",
      " |      order of two equal elements is maintained).\n",
      " |      \n",
      " |      If a key function is given, apply it once to each list item and sort them,\n",
      " |      ascending or descending, according to their function values.\n",
      " |      \n",
      " |      The reverse flag can be set to sort in descending order.\n",
      " |  \n",
      " |  ----------------------------------------------------------------------\n",
      " |  Class methods defined here:\n",
      " |  \n",
      " |  __class_getitem__(...) from builtins.type\n",
      " |      See PEP 585\n",
      " |  \n",
      " |  ----------------------------------------------------------------------\n",
      " |  Static methods defined here:\n",
      " |  \n",
      " |  __new__(*args, **kwargs) from builtins.type\n",
      " |      Create and return a new object.  See help(type) for accurate signature.\n",
      " |  \n",
      " |  ----------------------------------------------------------------------\n",
      " |  Data and other attributes defined here:\n",
      " |  \n",
      " |  __hash__ = None\n",
      "\n"
     ]
    }
   ],
   "source": [
    "x=[]\n",
    "help(x)"
   ]
  },
  {
   "cell_type": "markdown",
   "id": "7bb1edea",
   "metadata": {},
   "source": [
    "### Defining a Class in Python\n",
    "class definitions begin with a class keyword.A class creates a new local namespace where all its attributes are defined.\n",
    "#### attribute:\n",
    "the characteristics of the class that help to distinguish it from other classes.(value associated with an object which is referenced by name using dotted expressions).\n",
    "\n",
    "#### method:\n",
    "A function which is defined inside a class body. If called as an attribute of an instance of that class, the method will get the instance object as its first argument (which is usually called self).\n",
    "* self is a placeholder for the object\n",
    "###### Any variable that is bound in a class is a class attribute . Any function defined within a class is a method"
   ]
  },
  {
   "cell_type": "code",
   "execution_count": 86,
   "id": "2b1b2227",
   "metadata": {},
   "outputs": [],
   "source": [
    "class MyClass:\n",
    "  x=5"
   ]
  },
  {
   "cell_type": "markdown",
   "id": "c261d68c",
   "metadata": {},
   "source": [
    "### creating an object"
   ]
  },
  {
   "cell_type": "code",
   "execution_count": 87,
   "id": "2d4609dd",
   "metadata": {},
   "outputs": [],
   "source": [
    "p1 = MyClass()"
   ]
  },
  {
   "cell_type": "markdown",
   "id": "c3e811dd",
   "metadata": {},
   "source": [
    "#### using attributes \n",
    "object.attribute"
   ]
  },
  {
   "cell_type": "code",
   "execution_count": 88,
   "id": "2305df4d",
   "metadata": {},
   "outputs": [
    {
     "name": "stdout",
     "output_type": "stream",
     "text": [
      "5\n"
     ]
    }
   ],
   "source": [
    "print(p1.x)"
   ]
  },
  {
   "cell_type": "markdown",
   "id": "8a0e521e",
   "metadata": {},
   "source": [
    "### The Constructor\n",
    "A constructor is a special method that the program calls upon an object’s creation. Also called __init__() function , which is always executed when the class is being initiated."
   ]
  },
  {
   "cell_type": "code",
   "execution_count": 89,
   "id": "38d2f25e",
   "metadata": {},
   "outputs": [
    {
     "name": "stdout",
     "output_type": "stream",
     "text": [
      "John\n",
      "36\n"
     ]
    }
   ],
   "source": [
    "class Person:\n",
    "  def __init__(self, name, age):\n",
    "    self.name = name\n",
    "    self.age = age\n",
    "p1 = Person(\"John\", 36)\n",
    "print(p1.name)\n",
    "print(p1.age)"
   ]
  },
  {
   "cell_type": "markdown",
   "id": "b0bee344",
   "metadata": {},
   "source": [
    "##### the difference between constructor and other methods"
   ]
  },
  {
   "cell_type": "code",
   "execution_count": 90,
   "id": "4c9a7ea5",
   "metadata": {},
   "outputs": [
    {
     "name": "stdout",
     "output_type": "stream",
     "text": [
      "the name is mohamed and the age is 23\n"
     ]
    }
   ],
   "source": [
    "class student:\n",
    "  def __init__(self, name ,age):\n",
    "        self.name=name\n",
    "        self.age=age\n",
    "        print(\"the name is {} and the age is {}\".format(name,age))\n",
    "s1=student('mohamed',23)"
   ]
  },
  {
   "cell_type": "code",
   "execution_count": 91,
   "id": "5361e831",
   "metadata": {},
   "outputs": [
    {
     "name": "stdout",
     "output_type": "stream",
     "text": [
      "the name is mohamed and the age is 23\n"
     ]
    }
   ],
   "source": [
    "class student_info:\n",
    "    def details(self,name,age):\n",
    "        self.name=name\n",
    "        self .age=age\n",
    "        print(\"the name is {} and the age is {}\".format(name,age))\n",
    "s1=student_info()\n",
    "s1.details('mohamed',23)              "
   ]
  },
  {
   "cell_type": "markdown",
   "id": "86c63f51",
   "metadata": {},
   "source": [
    "### difference between class and instance attributes\n",
    "###### Class attributes\n",
    "are the variables defined directly in the class that are shared by all objects of the class.\n",
    "###### Instance attributes\n",
    "are attributes or properties attached to an instance of a class. Instance attributes are defined in the constructor."
   ]
  },
  {
   "cell_type": "code",
   "execution_count": 92,
   "id": "bcb4be9f",
   "metadata": {},
   "outputs": [
    {
     "name": "stdout",
     "output_type": "stream",
     "text": [
      "class_value\n",
      "welcome\n",
      "class_value\n"
     ]
    }
   ],
   "source": [
    "class myClass():\n",
    "    class_value= 'class_value'   #class attribute\n",
    "\n",
    "d=myClass()\n",
    "print(d.class_value)\n",
    "\n",
    "d.class_value='welcome'  #instance attribute \n",
    "print(d.class_value)\n",
    "\n",
    "del d.class_value\n",
    "print(d.class_value)"
   ]
  },
  {
   "cell_type": "markdown",
   "id": "fdb9c0e0",
   "metadata": {},
   "source": [
    "#### First Example:"
   ]
  },
  {
   "cell_type": "code",
   "execution_count": 93,
   "id": "55160375",
   "metadata": {},
   "outputs": [
    {
     "name": "stdout",
     "output_type": "stream",
     "text": [
      "welcome mohamed to the school\n",
      "[40, 50, 30, 80, 60]\n",
      "52.0\n"
     ]
    }
   ],
   "source": [
    "class student:\n",
    "    def __init__(self,name):\n",
    "        self.name=name\n",
    "        self.marks=[] \n",
    "        print(\"welcome {} to the school\".format(name))\n",
    "    def addmarks(self,mark):\n",
    "        self.marks.append(mark)\n",
    "    def ave(self):\n",
    "        return sum(self.marks)/len(self.marks)\n",
    "s1=student('mohamed')\n",
    "s1.addmarks(40)\n",
    "s1.addmarks(50)\n",
    "s1.addmarks(30)\n",
    "s1.addmarks(80)\n",
    "s1.addmarks(60)\n",
    "print(s1.marks)\n",
    "print(s1.ave())"
   ]
  },
  {
   "cell_type": "markdown",
   "id": "c8fa0b6f",
   "metadata": {},
   "source": [
    "#### Second Example:"
   ]
  },
  {
   "cell_type": "code",
   "execution_count": 94,
   "id": "c98f1091",
   "metadata": {},
   "outputs": [
    {
     "name": "stdout",
     "output_type": "stream",
     "text": [
      "30\n",
      "200\n"
     ]
    }
   ],
   "source": [
    " class calculator:\n",
    "        def __init__(self,a,b):\n",
    "            self.a=a\n",
    "            self.b=b\n",
    "        def add(self):\n",
    "            return self.a+self.b\n",
    "        def mull(self):\n",
    "            return self.a*self.b\n",
    "calc= calculator(10,20)\n",
    "print(calc.add())\n",
    "print(calc.mull())"
   ]
  },
  {
   "cell_type": "markdown",
   "id": "96c17dac",
   "metadata": {},
   "source": [
    "### inheritance\n",
    "Inheritance allows us to define a class that inherits all the methods and properties from another class.\n",
    "\n",
    "##### Parent class\n",
    "is the class being inherited from, also called base class.\n",
    "\n",
    "##### Child class\n",
    "is the class that inherits from another class, also called derived class."
   ]
  },
  {
   "cell_type": "code",
   "execution_count": 95,
   "id": "87c21df9",
   "metadata": {},
   "outputs": [
    {
     "name": "stdout",
     "output_type": "stream",
     "text": [
      "8\n",
      "5\n",
      "6\n"
     ]
    }
   ],
   "source": [
    "class scientific(calculator): # child class\n",
    "    def power(self):\n",
    "        return pow(self.a , self.b)\n",
    "d=scientific(2,3)\n",
    "print(d.power())\n",
    "print(d.add())\n",
    "print(d.mull())"
   ]
  },
  {
   "cell_type": "code",
   "execution_count": 96,
   "id": "e92dd925",
   "metadata": {},
   "outputs": [
    {
     "name": "stdout",
     "output_type": "stream",
     "text": [
      "2016-5-12\n",
      "2016-5-12\n",
      "05:13:07\n"
     ]
    }
   ],
   "source": [
    "class Date():\n",
    "     def get_date(self):\n",
    "        return '2016-5-12'\n",
    "class Time(Date):\n",
    "    def get_time(self):\n",
    "        return '05:13:07'\n",
    "d=Date()\n",
    "print(d.get_date())\n",
    "t=Time()\n",
    "print(t.get_date())\n",
    "print(t.get_time())"
   ]
  },
  {
   "cell_type": "markdown",
   "id": "4ac01b63",
   "metadata": {},
   "source": [
    "### polymorphism \n",
    "The word polymorphism means having many forms. In programming, polymorphism means the same function name (but different signatures) being used for different types."
   ]
  },
  {
   "cell_type": "code",
   "execution_count": 97,
   "id": "dad2bd6e",
   "metadata": {},
   "outputs": [
    {
     "data": {
      "text/plain": [
       "5"
      ]
     },
     "execution_count": 97,
     "metadata": {},
     "output_type": "execute_result"
    }
   ],
   "source": [
    "len('hello')"
   ]
  },
  {
   "cell_type": "code",
   "execution_count": 98,
   "id": "770a8a81",
   "metadata": {},
   "outputs": [
    {
     "data": {
      "text/plain": [
       "3"
      ]
     },
     "execution_count": 98,
     "metadata": {},
     "output_type": "execute_result"
    }
   ],
   "source": [
    "len(('a','b','c'))"
   ]
  },
  {
   "cell_type": "code",
   "execution_count": 99,
   "id": "c9262a46",
   "metadata": {},
   "outputs": [
    {
     "data": {
      "text/plain": [
       "2"
      ]
     },
     "execution_count": 99,
     "metadata": {},
     "output_type": "execute_result"
    }
   ],
   "source": [
    "len({'a':1,'b':2})"
   ]
  },
  {
   "cell_type": "markdown",
   "id": "a6041104",
   "metadata": {},
   "source": [
    "### constructor inheritance\n",
    "if the class does not have an __init__ constructor python will check its parent class\n",
    "###### super \n",
    "used to relate the class with its parent class. We use super() function to call methods in the parent class"
   ]
  },
  {
   "cell_type": "code",
   "execution_count": 100,
   "id": "e2a8fca2",
   "metadata": {},
   "outputs": [
    {
     "name": "stdout",
     "output_type": "stream",
     "text": [
      "Max\n",
      "fish\n"
     ]
    }
   ],
   "source": [
    "class Animal():\n",
    "    def __init__(self,name):\n",
    "        self.name=name\n",
    "class Dog(Animal):\n",
    "    def __init__(self,name):\n",
    "        super(Dog ,self).__init__(name)\n",
    "        self.Food='fish'\n",
    "d=Dog('Max')\n",
    "print(d.name)\n",
    "print(d.Food)"
   ]
  },
  {
   "cell_type": "markdown",
   "id": "b6925719",
   "metadata": {},
   "source": [
    "### multiple inheritance\n",
    "A class can be derived from more than one base class in Python.In multiple inheritance, the features of all the base classes are inherited into the derived class.\n",
    "#### Method Resolution Order \n",
    "* any specified attribute is searched first in the current class.\n",
    "* If not found, the search continues into parent classes in depth-first, left-right fashion without searching the same class twice.\n",
    "* Every class in Python is derived from the object class. It is the most base type in Python."
   ]
  },
  {
   "cell_type": "code",
   "execution_count": 101,
   "id": "69acc57f",
   "metadata": {},
   "outputs": [
    {
     "name": "stdout",
     "output_type": "stream",
     "text": [
      "Doing this in A\n",
      "[<class '__main__.D'>, <class '__main__.B'>, <class '__main__.A'>, <class '__main__.C'>, <class 'object'>]\n"
     ]
    }
   ],
   "source": [
    "class A():\n",
    "    def dothis(self):\n",
    "        print('Doing this in A')\n",
    "class B(A):\n",
    "    pass\n",
    "class C():\n",
    "    def dothis(self):\n",
    "        print('Doing this in C')\n",
    "class D(B,C):\n",
    "    pass\n",
    "d=D()\n",
    "d.dothis()\n",
    "\n",
    "print(D.mro())"
   ]
  }
 ],
 "metadata": {
  "kernelspec": {
   "display_name": "Python 3 (ipykernel)",
   "language": "python",
   "name": "python3"
  },
  "language_info": {
   "codemirror_mode": {
    "name": "ipython",
    "version": 3
   },
   "file_extension": ".py",
   "mimetype": "text/x-python",
   "name": "python",
   "nbconvert_exporter": "python",
   "pygments_lexer": "ipython3",
   "version": "3.9.7"
  }
 },
 "nbformat": 4,
 "nbformat_minor": 5
}
